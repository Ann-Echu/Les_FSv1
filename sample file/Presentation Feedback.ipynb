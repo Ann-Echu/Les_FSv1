{
 "cells": [
  {
   "cell_type": "code",
   "execution_count": null,
   "id": "cfc1fd49",
   "metadata": {},
   "outputs": [],
   "source": [
    "import pandas as pd\n",
    "from sklearn.preprocessing import OneHotEncoder\n",
    "from collections import defaultdict\n",
    "\n",
    "# Load user preferences and outfits data from CSV files\n",
    "user_preferences_df = pd.read_csv('feedbackdatatype1.csv')\n",
    "outfits_df = pd.read_csv('final_outfit_characteristics.csv')"
   ]
  },
  {
   "cell_type": "code",
   "execution_count": null,
   "id": "17923e17",
   "metadata": {
    "scrolled": true
   },
   "outputs": [],
   "source": [
    "user_preferences_df"
   ]
  },
  {
   "cell_type": "code",
   "execution_count": null,
   "id": "2b91a8df",
   "metadata": {},
   "outputs": [],
   "source": [
    "outfits_df"
   ]
  },
  {
   "cell_type": "code",
   "execution_count": null,
   "id": "53cef278",
   "metadata": {},
   "outputs": [],
   "source": [
    "pd.DataFrame(outfits_df.columns.values, columns = [\"Variables\"])"
   ]
  },
  {
   "cell_type": "code",
   "execution_count": null,
   "id": "a0f80d0e",
   "metadata": {},
   "outputs": [],
   "source": [
    "pd.DataFrame(user_preferences_df.columns.values, columns = [\"Variables\"])"
   ]
  },
  {
   "cell_type": "code",
   "execution_count": null,
   "id": "6c62c260",
   "metadata": {},
   "outputs": [],
   "source": [
    "user_preferences_df = user_preferences_df.rename(columns={'Age\\n': 'Age'})\n",
    "user_preferences_df = user_preferences_df.rename(columns={'Weather\\n': 'Weather'})\n",
    "user_preferences_df = user_preferences_df.rename(columns={'Preferred_Styles\\n': 'Preferred_Styles'})\n",
    "user_preferences_df = user_preferences_df.rename(columns={'Clothing_items\\n': 'Clothing_items'})\n",
    "user_preferences_df = user_preferences_df.rename(columns={'Patterns\\n': 'Patterns'})\n",
    "user_preferences_df = user_preferences_df.rename(columns={'Fabrics\\n': 'Fabrics'})\n",
    "user_preferences_df = user_preferences_df.rename(columns={'Top_Fit\\n': 'Top_Fit'})\n",
    "user_preferences_df = user_preferences_df.rename(columns={'Bottom_Fit\\n': 'Bottom_Fit'})"
   ]
  },
  {
   "cell_type": "code",
   "execution_count": null,
   "id": "60203ea1",
   "metadata": {},
   "outputs": [],
   "source": [
    "user_preferences_df"
   ]
  },
  {
   "cell_type": "code",
   "execution_count": null,
   "id": "0cfd6a5c",
   "metadata": {},
   "outputs": [],
   "source": [
    "pd.DataFrame(user_preferences_df.columns.values, columns = [\"Variables\"])"
   ]
  },
  {
   "cell_type": "code",
   "execution_count": null,
   "id": "d3967a74",
   "metadata": {},
   "outputs": [],
   "source": [
    "user_preferences_df[\"ID\"].value_counts()"
   ]
  },
  {
   "cell_type": "code",
   "execution_count": null,
   "id": "2675875e",
   "metadata": {},
   "outputs": [],
   "source": [
    "outfits_df[\"ID\"].value_counts()"
   ]
  },
  {
   "cell_type": "code",
   "execution_count": null,
   "id": "064b5efc",
   "metadata": {},
   "outputs": [],
   "source": [
    "user_preferences_df[\"Gender\"].value_counts()"
   ]
  },
  {
   "cell_type": "code",
   "execution_count": null,
   "id": "43c4cd34",
   "metadata": {},
   "outputs": [],
   "source": [
    "outfits_df[\"Gender\"].value_counts()"
   ]
  },
  {
   "cell_type": "code",
   "execution_count": null,
   "id": "09d33384",
   "metadata": {},
   "outputs": [],
   "source": [
    "user_preferences_df[\"Age\"].value_counts()"
   ]
  },
  {
   "cell_type": "code",
   "execution_count": null,
   "id": "9f151389",
   "metadata": {},
   "outputs": [],
   "source": [
    "outfits_df[\"Age\"].value_counts()"
   ]
  },
  {
   "cell_type": "code",
   "execution_count": null,
   "id": "6c2d93b5",
   "metadata": {},
   "outputs": [],
   "source": [
    "user_preferences_df[\"Work_Attire\"].value_counts()"
   ]
  },
  {
   "cell_type": "code",
   "execution_count": null,
   "id": "6e093e64",
   "metadata": {},
   "outputs": [],
   "source": [
    "outfits_df[\"Work_Attire\"].value_counts()"
   ]
  },
  {
   "cell_type": "code",
   "execution_count": null,
   "id": "b7cde81a",
   "metadata": {},
   "outputs": [],
   "source": [
    "user_preferences_df[\"Weather\"].value_counts()"
   ]
  },
  {
   "cell_type": "code",
   "execution_count": null,
   "id": "82b0f97d",
   "metadata": {},
   "outputs": [],
   "source": [
    "outfits_df[\"Weather\"].value_counts()"
   ]
  },
  {
   "cell_type": "code",
   "execution_count": null,
   "id": "e9b78a0a",
   "metadata": {},
   "outputs": [],
   "source": [
    "user_preferences_df[\"Casual\"].value_counts()"
   ]
  },
  {
   "cell_type": "code",
   "execution_count": null,
   "id": "69619825",
   "metadata": {},
   "outputs": [],
   "source": [
    "outfits_df[\"Casual\"].value_counts()"
   ]
  },
  {
   "cell_type": "code",
   "execution_count": null,
   "id": "a4bacc0c",
   "metadata": {},
   "outputs": [],
   "source": [
    "user_preferences_df[\"Preferred_Styles\"].value_counts()"
   ]
  },
  {
   "cell_type": "code",
   "execution_count": null,
   "id": "17d09723",
   "metadata": {},
   "outputs": [],
   "source": [
    "outfits_df[\"Preferred_Styles\"].value_counts()"
   ]
  },
  {
   "cell_type": "code",
   "execution_count": null,
   "id": "54b9d7ab",
   "metadata": {},
   "outputs": [],
   "source": [
    "user_preferences_df[\"Clothing_items\"].value_counts()"
   ]
  },
  {
   "cell_type": "code",
   "execution_count": null,
   "id": "7555243f",
   "metadata": {},
   "outputs": [],
   "source": [
    "outfits_df[\"Clothing_items\"].value_counts()"
   ]
  },
  {
   "cell_type": "code",
   "execution_count": null,
   "id": "0987852e",
   "metadata": {},
   "outputs": [],
   "source": [
    "user_preferences_df[\"Bottom_Type\"].value_counts()"
   ]
  },
  {
   "cell_type": "code",
   "execution_count": null,
   "id": "8601bc63",
   "metadata": {},
   "outputs": [],
   "source": [
    "outfits_df[\"Bottom_Type\"].value_counts()"
   ]
  },
  {
   "cell_type": "code",
   "execution_count": null,
   "id": "1287c04f",
   "metadata": {},
   "outputs": [],
   "source": [
    "user_preferences_df[\"Top_Type\"].value_counts()"
   ]
  },
  {
   "cell_type": "code",
   "execution_count": null,
   "id": "6f364aa6",
   "metadata": {},
   "outputs": [],
   "source": [
    "outfits_df[\"Top_Type\"].value_counts()"
   ]
  },
  {
   "cell_type": "code",
   "execution_count": null,
   "id": "20a52b59",
   "metadata": {},
   "outputs": [],
   "source": [
    "user_preferences_df[\"Shoe_Type\"].value_counts()"
   ]
  },
  {
   "cell_type": "code",
   "execution_count": null,
   "id": "ffbe8d43",
   "metadata": {},
   "outputs": [],
   "source": [
    "outfits_df[\"Shoe_Type\"].value_counts()"
   ]
  },
  {
   "cell_type": "code",
   "execution_count": null,
   "id": "e792a96a",
   "metadata": {},
   "outputs": [],
   "source": [
    "user_preferences_df[\"Colors\"].value_counts()"
   ]
  },
  {
   "cell_type": "code",
   "execution_count": null,
   "id": "5e0ce831",
   "metadata": {},
   "outputs": [],
   "source": [
    "outfits_df[\"Colors\"].value_counts()"
   ]
  },
  {
   "cell_type": "code",
   "execution_count": null,
   "id": "57688ca9",
   "metadata": {},
   "outputs": [],
   "source": [
    "user_preferences_df[\"Patterns\"].value_counts()"
   ]
  },
  {
   "cell_type": "code",
   "execution_count": null,
   "id": "21862a93",
   "metadata": {},
   "outputs": [],
   "source": [
    "outfits_df[\"Patterns\"].value_counts()"
   ]
  },
  {
   "cell_type": "code",
   "execution_count": null,
   "id": "fab976de",
   "metadata": {},
   "outputs": [],
   "source": [
    "user_preferences_df[\"Fabrics\"].value_counts()"
   ]
  },
  {
   "cell_type": "code",
   "execution_count": null,
   "id": "6347979e",
   "metadata": {},
   "outputs": [],
   "source": [
    "outfits_df[\"Fabrics\"].value_counts()"
   ]
  },
  {
   "cell_type": "code",
   "execution_count": null,
   "id": "87420c9a",
   "metadata": {},
   "outputs": [],
   "source": [
    "user_preferences_df[\"Top_Fit\"].value_counts()"
   ]
  },
  {
   "cell_type": "code",
   "execution_count": null,
   "id": "2052e27d",
   "metadata": {},
   "outputs": [],
   "source": [
    "outfits_df[\"Top_Fit\"].value_counts()"
   ]
  },
  {
   "cell_type": "code",
   "execution_count": null,
   "id": "c6fa5453",
   "metadata": {},
   "outputs": [],
   "source": [
    "user_preferences_df[\"Bottom_Fit\"].value_counts()"
   ]
  },
  {
   "cell_type": "code",
   "execution_count": null,
   "id": "bf943d28",
   "metadata": {},
   "outputs": [],
   "source": [
    "outfits_df[\"Bottom_Fit\"].value_counts()"
   ]
  },
  {
   "cell_type": "code",
   "execution_count": null,
   "id": "dfb2fe49",
   "metadata": {},
   "outputs": [],
   "source": [
    "# Ensure both dataframes have the same columns before concatenating\n",
    "if list(user_preferences_df.columns) != list(outfits_df.columns):\n",
    "    raise ValueError(\"The columns of user preferences and outfits dataframes do not match.\")\n",
    "\n",
    "# Convert all columns to strings to ensure uniform data type\n",
    "user_preferences_df = user_preferences_df.astype(str)\n",
    "outfits_df = outfits_df.astype(str)\n",
    "\n",
    "# Define a threshold for matching characteristics\n",
    "threshold = 11  # At least 11 matching characteristics out of 16"
   ]
  },
  {
   "cell_type": "code",
   "execution_count": null,
   "id": "5ee31ca7",
   "metadata": {},
   "outputs": [],
   "source": [
    "def hasMatch(userValue, outfitValue):\n",
    "        # Check if both values are strings\n",
    "    if type(userValue) != str or type(outfitValue) != str:\n",
    "        return False\n",
    "    \n",
    "    # Split values into attributes and create sets\n",
    "    userValue = getSplitAttributes(userValue)\n",
    "    outfitValue = getSplitAttributes(outfitValue)\n",
    "\n",
    "    # Check if there is any intersection between user and outfit attributes\n",
    "    return len(userValue.intersection(outfitValue)) > 0\n",
    "\n",
    "def getSplitAttributes(values):\n",
    "    # Split the values by delimiter \";\" and create a set of attributes\n",
    "    return set([v.strip() for v in values.split(\";\")])\n",
    "\n",
    "# Match user preferences to outfits\n",
    "user_outfit_matches = []\n",
    "\n",
    "# Dictionary to store matched outfits for each user\n",
    "matchedOutfits = defaultdict(list)\n",
    "\n",
    "# Set of attributes in outfits dataframe (excluding ID)\n",
    "outfitAttributes = set(outfits_df.columns.values)\n",
    "outfitAttributes.remove(\"ID\")\n",
    "\n",
    "# Iterate over each user and their preferences\n",
    "for userIndex, user in user_preferences_df.iterrows():\n",
    "    # Get user's gender for filtering outfits\n",
    "    userGender = user['Gender']\n",
    "    \n",
    "    # Iterate over each outfit to find matches for the user\n",
    "    for outfitIndex, outfitData in outfits_df.iterrows():\n",
    "        # Check if outfit gender matches user's gender\n",
    "        if outfitData['Gender'] != userGender:\n",
    "            continue\n",
    "        \n",
    "        # Initialize counter for matched attributes\n",
    "        matchedAttributeCt = 0\n",
    "        \n",
    "        # Iterate over each attribute in the outfit\n",
    "        for attribute in outfitAttributes:\n",
    "            # Get attribute values for user and outfit\n",
    "            outfitAttrData = outfitData[attribute]\n",
    "            userAttrData = user[attribute]\n",
    "            \n",
    "            # Check if there is a match between user and outfit attributes\n",
    "            if hasMatch(outfitAttrData, userAttrData):\n",
    "                matchedAttributeCt += 1\n",
    "         \n",
    "        # If number of matched attributes exceeds threshold, add outfit to user's matches\n",
    "        if matchedAttributeCt >= threshold:\n",
    "            matchedOutfits[userIndex].append(outfitData[\"ID\"])\n",
    "    \n",
    "    # Count and print the number of matched outfits for each user\n",
    "    matchedOutfitCt = len(matchedOutfits[userIndex])\n",
    "    print(f\"User {userIndex + 1} matched with {matchedOutfitCt} outfits\")\n",
    "\n",
    "    # Print the matched outfits for each user    \n",
    "for userIndex in sorted(matchedOutfits.keys()):\n",
    "    print(f\"User {userIndex + 1} outfit matches: {matchedOutfits[userIndex]}\")"
   ]
  },
  {
   "cell_type": "code",
   "execution_count": null,
   "id": "a05f4e76",
   "metadata": {},
   "outputs": [],
   "source": [
    "from tabulate import tabulate\n",
    "\n",
    "# Prepare data for table format\n",
    "table_data = []\n",
    "for userIndex in sorted(matchedOutfits.keys()):\n",
    "    table_data.append([userIndex + 1, len(matchedOutfits[userIndex]), \", \".join(matchedOutfits[userIndex])])\n",
    "\n",
    "# Print the table\n",
    "headers = [\"User Index\", \"Number of Matches\", \"Matched Outfits\"]\n",
    "print(tabulate(table_data, headers=headers, tablefmt=\"pretty\"))"
   ]
  },
  {
   "cell_type": "code",
   "execution_count": null,
   "id": "72041e3c",
   "metadata": {},
   "outputs": [],
   "source": [
    "# Prepare data for table format\n",
    "table_data = []\n",
    "for userIndex in sorted(matchedOutfits.keys()):\n",
    "    table_data.append([f\"User {userIndex + 1}\", f\"{len(matchedOutfits[userIndex])} matched outfits\"])\n",
    "\n",
    "# Print the table\n",
    "headers = [\"User\", \"Number of Matched Outfits\"]\n",
    "print(tabulate(table_data, headers=headers, tablefmt=\"pretty\"))"
   ]
  },
  {
   "cell_type": "code",
   "execution_count": null,
   "id": "7402425b",
   "metadata": {},
   "outputs": [],
   "source": [
    "# Prepare data for table format\n",
    "table_data = []\n",
    "for userIndex in sorted(matchedOutfits.keys()):\n",
    "    user_id = f\"User {userIndex + 1}\"\n",
    "    matched_outfit_ct = f\"{len(matchedOutfits[userIndex])} matched outfits\"\n",
    "    matched_outfit_list = \", \".join(matchedOutfits[userIndex])\n",
    "    table_data.append([user_id, matched_outfit_ct, matched_outfit_list])\n",
    "\n",
    "# Print the table\n",
    "headers = [\"User\", \"Number of Matched Outfits\", \"Matched Outfits\"]\n",
    "print(tabulate(table_data, headers=headers, tablefmt=\"pretty\"))"
   ]
  },
  {
   "cell_type": "code",
   "execution_count": null,
   "id": "dd9acb5a",
   "metadata": {},
   "outputs": [],
   "source": [
    "so that it looks like this, matching the following header:` Header: ID,Gender,Age,Work_Attire,Weather,Casual,Preferred_Styles,Clothing_items,Bottom_Type,Top_Type,Shoe_Type,Colors,Patterns,Fabrics,Top_Fit,Bottom_Fit\n",
    "\n",
    "row1: 2,Man,Adult,Semi-Formal;,Cold;,Often,Formal; Casual;,T-shirts; Shirts; Jeans; Pants;,Trousers;,T-shirts;,Boots;,Neutral; Warm;,Plain;,Cotton; Denim; Silk; Faux Fur; Leather; Wool; Faux Leather;,Loose;,Loose;"
   ]
  }
 ],
 "metadata": {
  "kernelspec": {
   "display_name": "Python 3 (ipykernel)",
   "language": "python",
   "name": "python3"
  },
  "language_info": {
   "codemirror_mode": {
    "name": "ipython",
    "version": 3
   },
   "file_extension": ".py",
   "mimetype": "text/x-python",
   "name": "python",
   "nbconvert_exporter": "python",
   "pygments_lexer": "ipython3",
   "version": "3.10.9"
  }
 },
 "nbformat": 4,
 "nbformat_minor": 5
}
